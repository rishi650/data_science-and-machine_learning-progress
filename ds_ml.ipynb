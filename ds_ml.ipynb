{
  "nbformat": 4,
  "nbformat_minor": 0,
  "metadata": {
    "colab": {
      "provenance": []
    },
    "kernelspec": {
      "name": "python3",
      "display_name": "Python 3"
    },
    "language_info": {
      "name": "python"
    }
  },
  "cells": [
    {
      "cell_type": "code",
      "execution_count": 66,
      "metadata": {
        "id": "XGRYUFzOgTO8"
      },
      "outputs": [],
      "source": [
        "import numpy as np"
      ]
    },
    {
      "cell_type": "code",
      "source": [
        "list_1 = [1,2,3,4,5,6,7,8,9,10]\n",
        "\n",
        "np.array(list_1)"
      ],
      "metadata": {
        "colab": {
          "base_uri": "https://localhost:8080/",
          "height": 0
        },
        "id": "Axzz7H1Fqb5t",
        "outputId": "cfa94f39-d4ea-43a3-c9a7-1f8400e4067a"
      },
      "execution_count": 67,
      "outputs": [
        {
          "output_type": "execute_result",
          "data": {
            "text/plain": [
              "array([ 1,  2,  3,  4,  5,  6,  7,  8,  9, 10])"
            ]
          },
          "metadata": {},
          "execution_count": 67
        }
      ]
    },
    {
      "cell_type": "code",
      "source": [],
      "metadata": {
        "id": "_jMzu1reXW63"
      },
      "execution_count": 67,
      "outputs": []
    },
    {
      "cell_type": "code",
      "source": [
        "new_arr_from_list = np.array(list_1)                       #convert list into array\n",
        "new_arr_from_list * 2\n"
      ],
      "metadata": {
        "colab": {
          "base_uri": "https://localhost:8080/",
          "height": 0
        },
        "id": "k2FNUGn6qkza",
        "outputId": "56605da6-ba71-4b97-949e-67497fbcca26"
      },
      "execution_count": 68,
      "outputs": [
        {
          "output_type": "execute_result",
          "data": {
            "text/plain": [
              "array([ 2,  4,  6,  8, 10, 12, 14, 16, 18, 20])"
            ]
          },
          "metadata": {},
          "execution_count": 68
        }
      ]
    },
    {
      "cell_type": "code",
      "source": [
        "new_arr_from_list.ndim    # dimensionality of the array 1d or 2d"
      ],
      "metadata": {
        "colab": {
          "base_uri": "https://localhost:8080/",
          "height": 0
        },
        "id": "B9IL1zkkqp9F",
        "outputId": "ebca50dc-d965-46af-d255-b61301812f18"
      },
      "execution_count": 69,
      "outputs": [
        {
          "output_type": "execute_result",
          "data": {
            "text/plain": [
              "1"
            ]
          },
          "metadata": {},
          "execution_count": 69
        }
      ]
    },
    {
      "cell_type": "code",
      "source": [
        "# generate array between range\n",
        "arr= np.arange(0,10)\n",
        "arr*2\n"
      ],
      "metadata": {
        "colab": {
          "base_uri": "https://localhost:8080/",
          "height": 0
        },
        "id": "QBA_qL2yu4Fe",
        "outputId": "ea76e011-2fb8-4203-e859-88d114d359eb"
      },
      "execution_count": 70,
      "outputs": [
        {
          "output_type": "execute_result",
          "data": {
            "text/plain": [
              "array([ 0,  2,  4,  6,  8, 10, 12, 14, 16, 18])"
            ]
          },
          "metadata": {},
          "execution_count": 70
        }
      ]
    },
    {
      "cell_type": "code",
      "source": [
        "# reshaping dimensions  of array\n",
        "arr_before_reshape = np.arange(1,11)\n",
        "arr_after_reshape = arr_before_reshape.reshape(5,2)\n",
        "arr_after_reshape\n"
      ],
      "metadata": {
        "colab": {
          "base_uri": "https://localhost:8080/",
          "height": 0
        },
        "id": "rI4jo090x1kz",
        "outputId": "61cc3097-8a53-46bb-d30c-9e9520b396cb"
      },
      "execution_count": 71,
      "outputs": [
        {
          "output_type": "execute_result",
          "data": {
            "text/plain": [
              "array([[ 1,  2],\n",
              "       [ 3,  4],\n",
              "       [ 5,  6],\n",
              "       [ 7,  8],\n",
              "       [ 9, 10]])"
            ]
          },
          "metadata": {},
          "execution_count": 71
        }
      ]
    },
    {
      "cell_type": "code",
      "source": [
        "np.size(arr_after_reshape)        # gives the count of elements inside array"
      ],
      "metadata": {
        "colab": {
          "base_uri": "https://localhost:8080/",
          "height": 0
        },
        "id": "O7iBESOPyPCq",
        "outputId": "5de71055-ea38-485f-b0a8-49699eed340d"
      },
      "execution_count": 72,
      "outputs": [
        {
          "output_type": "execute_result",
          "data": {
            "text/plain": [
              "10"
            ]
          },
          "metadata": {},
          "execution_count": 72
        }
      ]
    },
    {
      "cell_type": "code",
      "source": [
        "np.zeros((4,6),dtype=int)\n",
        "\n",
        "\n"
      ],
      "metadata": {
        "colab": {
          "base_uri": "https://localhost:8080/",
          "height": 0
        },
        "id": "pz7LDSof0sKk",
        "outputId": "316788d5-c2fd-44fa-8599-7d4b751d067c"
      },
      "execution_count": 73,
      "outputs": [
        {
          "output_type": "execute_result",
          "data": {
            "text/plain": [
              "array([[0, 0, 0, 0, 0, 0],\n",
              "       [0, 0, 0, 0, 0, 0],\n",
              "       [0, 0, 0, 0, 0, 0],\n",
              "       [0, 0, 0, 0, 0, 0]])"
            ]
          },
          "metadata": {},
          "execution_count": 73
        }
      ]
    },
    {
      "cell_type": "code",
      "source": [
        "\n",
        "np.ones((3,4),dtype=int)"
      ],
      "metadata": {
        "colab": {
          "base_uri": "https://localhost:8080/",
          "height": 0
        },
        "id": "uyM_x-32VQoc",
        "outputId": "c0df9acc-6abe-4bef-a42e-bb0d20f1c657"
      },
      "execution_count": 74,
      "outputs": [
        {
          "output_type": "execute_result",
          "data": {
            "text/plain": [
              "array([[1, 1, 1, 1],\n",
              "       [1, 1, 1, 1],\n",
              "       [1, 1, 1, 1]])"
            ]
          },
          "metadata": {},
          "execution_count": 74
        }
      ]
    },
    {
      "cell_type": "code",
      "source": [
        "np.full((5,5),10)"
      ],
      "metadata": {
        "colab": {
          "base_uri": "https://localhost:8080/",
          "height": 0
        },
        "id": "6Rw97gpTVUGl",
        "outputId": "24f69840-6163-4d63-bcc4-aa609e12e651"
      },
      "execution_count": 75,
      "outputs": [
        {
          "output_type": "execute_result",
          "data": {
            "text/plain": [
              "array([[10, 10, 10, 10, 10],\n",
              "       [10, 10, 10, 10, 10],\n",
              "       [10, 10, 10, 10, 10],\n",
              "       [10, 10, 10, 10, 10],\n",
              "       [10, 10, 10, 10, 10]])"
            ]
          },
          "metadata": {},
          "execution_count": 75
        }
      ]
    },
    {
      "cell_type": "code",
      "source": [
        "np.random.random(3)      #1d                      # random numbers between 0 and 1"
      ],
      "metadata": {
        "colab": {
          "base_uri": "https://localhost:8080/",
          "height": 0
        },
        "id": "dhha1P0zWe1B",
        "outputId": "5ffa7e48-f471-450e-d322-6dd1861d5ef3"
      },
      "execution_count": 76,
      "outputs": [
        {
          "output_type": "execute_result",
          "data": {
            "text/plain": [
              "array([0.42803765, 0.16168439, 0.39942881])"
            ]
          },
          "metadata": {},
          "execution_count": 76
        }
      ]
    },
    {
      "cell_type": "code",
      "source": [
        "np.random.random((3,3))      #2d"
      ],
      "metadata": {
        "colab": {
          "base_uri": "https://localhost:8080/",
          "height": 0
        },
        "id": "WfRGN1ePWzgx",
        "outputId": "9fab3bf2-44ae-4f5d-bc03-4bdaf667c5c7"
      },
      "execution_count": 77,
      "outputs": [
        {
          "output_type": "execute_result",
          "data": {
            "text/plain": [
              "array([[0.34323144, 0.99569796, 0.81755956],\n",
              "       [0.80159921, 0.32034911, 0.17489977],\n",
              "       [0.68835582, 0.19162642, 0.43897476]])"
            ]
          },
          "metadata": {},
          "execution_count": 77
        }
      ]
    },
    {
      "cell_type": "code",
      "source": [
        "np.random.randint(4,size = 10)                      # random values in range of 0 - 4 and size of array is 10       #1d"
      ],
      "metadata": {
        "colab": {
          "base_uri": "https://localhost:8080/",
          "height": 0
        },
        "id": "ZFMBbL5QXGGP",
        "outputId": "dacf7dba-774a-47ed-9ca9-0af7dcb2b3a0"
      },
      "execution_count": 78,
      "outputs": [
        {
          "output_type": "execute_result",
          "data": {
            "text/plain": [
              "array([3, 1, 1, 2, 0, 3, 1, 2, 0, 1])"
            ]
          },
          "metadata": {},
          "execution_count": 78
        }
      ]
    },
    {
      "cell_type": "code",
      "source": [
        "np.random.randint(4,100,size = 10)                      # random values in range of 4 - 100 and size of array is 10"
      ],
      "metadata": {
        "colab": {
          "base_uri": "https://localhost:8080/",
          "height": 0
        },
        "id": "dQ8ehJNOXj9t",
        "outputId": "be7910dc-a526-4366-d095-cdc62d3f3dcf"
      },
      "execution_count": 79,
      "outputs": [
        {
          "output_type": "execute_result",
          "data": {
            "text/plain": [
              "array([14, 22, 85, 89, 35, 13, 99, 31, 14, 82])"
            ]
          },
          "metadata": {},
          "execution_count": 79
        }
      ]
    },
    {
      "cell_type": "code",
      "source": [
        "np.random.randint(4,100,size = (5,5))                      # random values in range of 4 - 100 and size of array is 10           #2d"
      ],
      "metadata": {
        "colab": {
          "base_uri": "https://localhost:8080/",
          "height": 0
        },
        "id": "xW0zIkt1X_yZ",
        "outputId": "c3cae9b7-e185-43d3-caed-f9bfed69f082"
      },
      "execution_count": 80,
      "outputs": [
        {
          "output_type": "execute_result",
          "data": {
            "text/plain": [
              "array([[87, 52, 64, 90,  9],\n",
              "       [30, 21, 51, 59, 72],\n",
              "       [21, 86, 53, 11, 75],\n",
              "       [37, 65, 19, 89, 62],\n",
              "       [42, 63, 32, 98, 93]])"
            ]
          },
          "metadata": {},
          "execution_count": 80
        }
      ]
    },
    {
      "cell_type": "code",
      "source": [
        "add_arr_1 = np.arange(1,10).reshape(3,3)\n",
        "add_arr_2 = np.arange(11,20).reshape(3,3)\n",
        "\n",
        "print(add_arr_1)\n",
        "\n",
        "add_arr_2"
      ],
      "metadata": {
        "colab": {
          "base_uri": "https://localhost:8080/",
          "height": 0
        },
        "id": "2hYnnSWaQFoF",
        "outputId": "3797b061-6eef-4994-8062-27492fc77cfc"
      },
      "execution_count": 81,
      "outputs": [
        {
          "output_type": "stream",
          "name": "stdout",
          "text": [
            "[[1 2 3]\n",
            " [4 5 6]\n",
            " [7 8 9]]\n"
          ]
        },
        {
          "output_type": "execute_result",
          "data": {
            "text/plain": [
              "array([[11, 12, 13],\n",
              "       [14, 15, 16],\n",
              "       [17, 18, 19]])"
            ]
          },
          "metadata": {},
          "execution_count": 81
        }
      ]
    },
    {
      "cell_type": "code",
      "source": [
        "add_arr_1 * add_arr_2 # normal multiplication"
      ],
      "metadata": {
        "colab": {
          "base_uri": "https://localhost:8080/",
          "height": 0
        },
        "id": "2EJ0ILcSQs7k",
        "outputId": "ca7c7873-f714-4575-e3ca-e0fb598ff017"
      },
      "execution_count": 82,
      "outputs": [
        {
          "output_type": "execute_result",
          "data": {
            "text/plain": [
              "array([[ 11,  24,  39],\n",
              "       [ 56,  75,  96],\n",
              "       [119, 144, 171]])"
            ]
          },
          "metadata": {},
          "execution_count": 82
        }
      ]
    },
    {
      "cell_type": "code",
      "source": [
        "add_arr_1.dot(add_arr_2) # matrix multiplication"
      ],
      "metadata": {
        "colab": {
          "base_uri": "https://localhost:8080/",
          "height": 0
        },
        "id": "PEZ2fPO3UuVY",
        "outputId": "4e02843a-2164-4122-a1fd-54e795be9617"
      },
      "execution_count": 83,
      "outputs": [
        {
          "output_type": "execute_result",
          "data": {
            "text/plain": [
              "array([[ 90,  96, 102],\n",
              "       [216, 231, 246],\n",
              "       [342, 366, 390]])"
            ]
          },
          "metadata": {},
          "execution_count": 83
        }
      ]
    },
    {
      "cell_type": "code",
      "source": [
        "min_find_arr = np.random.randint(1,50,size = (8,6))"
      ],
      "metadata": {
        "id": "8nseQDZQVTW0"
      },
      "execution_count": 84,
      "outputs": []
    },
    {
      "cell_type": "code",
      "source": [
        "\n",
        "np.min(min_find_arr)          # find min of whole array\n",
        "\n",
        "np.min(min_find_arr,axis=0)                         # find min of column wise array"
      ],
      "metadata": {
        "colab": {
          "base_uri": "https://localhost:8080/",
          "height": 0
        },
        "id": "8-GrV37GVpWc",
        "outputId": "c6a0262c-8904-4ec0-9054-b3ebc92cd5ca"
      },
      "execution_count": 85,
      "outputs": [
        {
          "output_type": "execute_result",
          "data": {
            "text/plain": [
              "array([ 8,  4,  8,  7, 12,  2])"
            ]
          },
          "metadata": {},
          "execution_count": 85
        }
      ]
    },
    {
      "cell_type": "code",
      "source": [
        "np.max(min_find_arr,axis=0)"
      ],
      "metadata": {
        "colab": {
          "base_uri": "https://localhost:8080/",
          "height": 0
        },
        "id": "EzR_xtnVerBs",
        "outputId": "f9553117-8c44-4c8b-bd96-c9f6b29eddde"
      },
      "execution_count": 86,
      "outputs": [
        {
          "output_type": "execute_result",
          "data": {
            "text/plain": [
              "array([47, 44, 48, 40, 46, 45])"
            ]
          },
          "metadata": {},
          "execution_count": 86
        }
      ]
    },
    {
      "cell_type": "code",
      "source": [
        "np.mean(min_find_arr)"
      ],
      "metadata": {
        "colab": {
          "base_uri": "https://localhost:8080/",
          "height": 0
        },
        "id": "fUmnwIalexz_",
        "outputId": "17f08983-5114-464c-b511-7cfc9cb2d133"
      },
      "execution_count": 87,
      "outputs": [
        {
          "output_type": "execute_result",
          "data": {
            "text/plain": [
              "25.291666666666668"
            ]
          },
          "metadata": {},
          "execution_count": 87
        }
      ]
    },
    {
      "cell_type": "code",
      "source": [
        "np.mean(min_find_arr,axis=0)"
      ],
      "metadata": {
        "colab": {
          "base_uri": "https://localhost:8080/",
          "height": 0
        },
        "id": "5QKbXCFdh4St",
        "outputId": "ada95755-bb24-4911-86c1-7e3532972df6"
      },
      "execution_count": 88,
      "outputs": [
        {
          "output_type": "execute_result",
          "data": {
            "text/plain": [
              "array([22.125, 23.75 , 26.75 , 23.25 , 31.75 , 24.125])"
            ]
          },
          "metadata": {},
          "execution_count": 88
        }
      ]
    },
    {
      "cell_type": "code",
      "source": [
        "np.sort(min_find_arr,axis = 0)                          # 0  column wise sorting 1 row wise sorting"
      ],
      "metadata": {
        "colab": {
          "base_uri": "https://localhost:8080/",
          "height": 0
        },
        "id": "ZJRzoVWckPlI",
        "outputId": "258f4587-85c6-43cd-cda5-c1bdff22437b"
      },
      "execution_count": 89,
      "outputs": [
        {
          "output_type": "execute_result",
          "data": {
            "text/plain": [
              "array([[ 8,  4,  8,  7, 12,  2],\n",
              "       [14,  6, 11, 13, 21, 10],\n",
              "       [14, 13, 14, 15, 29, 10],\n",
              "       [16, 21, 24, 20, 30, 24],\n",
              "       [18, 29, 31, 24, 35, 29],\n",
              "       [24, 35, 36, 27, 40, 29],\n",
              "       [36, 38, 42, 40, 41, 44],\n",
              "       [47, 44, 48, 40, 46, 45]])"
            ]
          },
          "metadata": {},
          "execution_count": 89
        }
      ]
    },
    {
      "cell_type": "code",
      "source": [
        "# array manipulation"
      ],
      "metadata": {
        "id": "bQ5TVclukgr8"
      },
      "execution_count": 90,
      "outputs": []
    },
    {
      "cell_type": "code",
      "source": [
        "stack_arr_1 = np.arange(1,10).reshape(3,3)\n",
        "stack_arr_2 = np.arange(11,20).reshape(3,3)\n",
        "\n",
        "\n",
        "np.vstack((stack_arr_1,stack_arr_2))                      # vertical stack concatenation\n"
      ],
      "metadata": {
        "colab": {
          "base_uri": "https://localhost:8080/",
          "height": 0
        },
        "id": "8jmVYmL2Hgwz",
        "outputId": "33bc1d75-4d66-490c-ce80-538315af012b"
      },
      "execution_count": 91,
      "outputs": [
        {
          "output_type": "execute_result",
          "data": {
            "text/plain": [
              "array([[ 1,  2,  3],\n",
              "       [ 4,  5,  6],\n",
              "       [ 7,  8,  9],\n",
              "       [11, 12, 13],\n",
              "       [14, 15, 16],\n",
              "       [17, 18, 19]])"
            ]
          },
          "metadata": {},
          "execution_count": 91
        }
      ]
    },
    {
      "cell_type": "code",
      "source": [
        "np.hstack((stack_arr_1,stack_arr_2))     #  horizontal  stack concatenation"
      ],
      "metadata": {
        "colab": {
          "base_uri": "https://localhost:8080/",
          "height": 0
        },
        "id": "lPKtoXNqK9ic",
        "outputId": "15c4a035-c952-4ced-8e93-4002c7b97c3c"
      },
      "execution_count": 92,
      "outputs": [
        {
          "output_type": "execute_result",
          "data": {
            "text/plain": [
              "array([[ 1,  2,  3, 11, 12, 13],\n",
              "       [ 4,  5,  6, 14, 15, 16],\n",
              "       [ 7,  8,  9, 17, 18, 19]])"
            ]
          },
          "metadata": {},
          "execution_count": 92
        }
      ]
    },
    {
      "cell_type": "code",
      "source": [
        "np.concatenate((stack_arr_1,stack_arr_2),axis = 0)                 # vertical stack concatenation"
      ],
      "metadata": {
        "colab": {
          "base_uri": "https://localhost:8080/",
          "height": 0
        },
        "id": "biNzYxo8LjyR",
        "outputId": "826cff82-3a37-4f6a-b97d-f6ccc2f14fc1"
      },
      "execution_count": 93,
      "outputs": [
        {
          "output_type": "execute_result",
          "data": {
            "text/plain": [
              "array([[ 1,  2,  3],\n",
              "       [ 4,  5,  6],\n",
              "       [ 7,  8,  9],\n",
              "       [11, 12, 13],\n",
              "       [14, 15, 16],\n",
              "       [17, 18, 19]])"
            ]
          },
          "metadata": {},
          "execution_count": 93
        }
      ]
    },
    {
      "cell_type": "code",
      "source": [
        "np.concatenate((stack_arr_1,stack_arr_2),axis = 1)                 # horizontal stack concatenation"
      ],
      "metadata": {
        "colab": {
          "base_uri": "https://localhost:8080/",
          "height": 0
        },
        "id": "TW4Q7pzBLt_t",
        "outputId": "b9226f9d-db0b-48e8-f442-0b23ac9db37f"
      },
      "execution_count": 94,
      "outputs": [
        {
          "output_type": "execute_result",
          "data": {
            "text/plain": [
              "array([[ 1,  2,  3, 11, 12, 13],\n",
              "       [ 4,  5,  6, 14, 15, 16],\n",
              "       [ 7,  8,  9, 17, 18, 19]])"
            ]
          },
          "metadata": {},
          "execution_count": 94
        }
      ]
    },
    {
      "cell_type": "code",
      "source": [
        "split_arr = np.arange(1,37).reshape(6,6)\n",
        "print(split_arr)\n",
        "np.vsplit(split_arr,3)\n",
        "# np.hsplit(split_arr,3)"
      ],
      "metadata": {
        "colab": {
          "base_uri": "https://localhost:8080/",
          "height": 0
        },
        "id": "rg13HGN2Mxq7",
        "outputId": "4b65e9f2-f620-4004-eea4-28cc50a1d43d"
      },
      "execution_count": 95,
      "outputs": [
        {
          "output_type": "stream",
          "name": "stdout",
          "text": [
            "[[ 1  2  3  4  5  6]\n",
            " [ 7  8  9 10 11 12]\n",
            " [13 14 15 16 17 18]\n",
            " [19 20 21 22 23 24]\n",
            " [25 26 27 28 29 30]\n",
            " [31 32 33 34 35 36]]\n"
          ]
        },
        {
          "output_type": "execute_result",
          "data": {
            "text/plain": [
              "[array([[ 1,  2,  3,  4,  5,  6],\n",
              "        [ 7,  8,  9, 10, 11, 12]]),\n",
              " array([[13, 14, 15, 16, 17, 18],\n",
              "        [19, 20, 21, 22, 23, 24]]),\n",
              " array([[25, 26, 27, 28, 29, 30],\n",
              "        [31, 32, 33, 34, 35, 36]])]"
            ]
          },
          "metadata": {},
          "execution_count": 95
        }
      ]
    },
    {
      "cell_type": "code",
      "source": [
        "np.ravel(split_arr)        # makes the data flattened to  1d data"
      ],
      "metadata": {
        "colab": {
          "base_uri": "https://localhost:8080/",
          "height": 0
        },
        "id": "3ZPex7IqTFZ9",
        "outputId": "1beb4ac8-ac19-4399-fd63-2475786db1ba"
      },
      "execution_count": 96,
      "outputs": [
        {
          "output_type": "execute_result",
          "data": {
            "text/plain": [
              "array([ 1,  2,  3,  4,  5,  6,  7,  8,  9, 10, 11, 12, 13, 14, 15, 16, 17,\n",
              "       18, 19, 20, 21, 22, 23, 24, 25, 26, 27, 28, 29, 30, 31, 32, 33, 34,\n",
              "       35, 36])"
            ]
          },
          "metadata": {},
          "execution_count": 96
        }
      ]
    },
    {
      "cell_type": "code",
      "source": [
        "np.transpose(split_arr)"
      ],
      "metadata": {
        "colab": {
          "base_uri": "https://localhost:8080/",
          "height": 0
        },
        "id": "YRG6dU_kTQtY",
        "outputId": "56d3112e-f326-4f40-ce2c-86dab7c1b52a"
      },
      "execution_count": 97,
      "outputs": [
        {
          "output_type": "execute_result",
          "data": {
            "text/plain": [
              "array([[ 1,  7, 13, 19, 25, 31],\n",
              "       [ 2,  8, 14, 20, 26, 32],\n",
              "       [ 3,  9, 15, 21, 27, 33],\n",
              "       [ 4, 10, 16, 22, 28, 34],\n",
              "       [ 5, 11, 17, 23, 29, 35],\n",
              "       [ 6, 12, 18, 24, 30, 36]])"
            ]
          },
          "metadata": {},
          "execution_count": 97
        }
      ]
    },
    {
      "cell_type": "code",
      "source": [
        "\"\"\"questions\n",
        "\n",
        "Problem Statement:\n",
        "You work in XYZ Corporation as a Data Analyst. Your corporation has told you to\n",
        "use the NumPy package and do some tasks related to that.\n",
        "\n",
        "Tasks To Be Performed:\n",
        "1. Create a 3x3 matrix array with values ranging from 2 to 10.\n",
        "\n",
        "2. Create a NumPy array having user input values and convert the integer\n",
        "type to the float type of the elements of the array. For instance: Original\n",
        "array [1, 2, 3, 4] Array converted to a float type: [ 1. 2. 3. 4.]\n",
        "\n",
        "3. Write a NumPy program to append values to the end of an array. For\n",
        "instance: Original array: [10, 20, 30] . After that, append values to the end\n",
        "of the array: [10 20 30 40 50 60 70 80 90]\n",
        "\n",
        "4. Create two NumPy arrays and add the elements of both the arrays and\n",
        "store the result in sumArray.\n",
        "\n",
        "5. Create a 3x3 array having values from 10-90 (interval of 10) and store that\n",
        "in array1\n",
        "\n",
        "Perform the following tasks:\n",
        "a. Extract the 1st row from the array\n",
        "b. Extract the last element from the array\n",
        "  \"\"\""
      ],
      "metadata": {
        "colab": {
          "base_uri": "https://localhost:8080/",
          "height": 140
        },
        "id": "fl2jb6AgTWUL",
        "outputId": "1a924f7f-cd1d-4bc4-c0d5-0604621d9c2e"
      },
      "execution_count": 98,
      "outputs": [
        {
          "output_type": "execute_result",
          "data": {
            "text/plain": [
              "'questions\\n\\nProblem Statement:\\nYou work in XYZ Corporation as a Data Analyst. Your corporation has told you to\\nuse the NumPy package and do some tasks related to that.\\n\\nTasks To Be Performed:\\n1. Create a 3x3 matrix array with values ranging from 2 to 10.\\n\\n2. Create a NumPy array having user input values and convert the integer\\ntype to the float type of the elements of the array. For instance: Original\\narray [1, 2, 3, 4] Array converted to a float type: [ 1. 2. 3. 4.]\\n\\n3. Write a NumPy program to append values to the end of an array. For\\ninstance: Original array: [10, 20, 30] . After that, append values to the end\\nof the array: [10 20 30 40 50 60 70 80 90]\\n\\n4. Create two NumPy arrays and add the elements of both the arrays and\\nstore the result in sumArray.\\n\\n5. Create a 3x3 array having values from 10-90 (interval of 10) and store that\\nin array1\\n\\nPerform the following tasks:\\na. Extract the 1st row from the array\\nb. Extract the last element from the array\\n  '"
            ],
            "application/vnd.google.colaboratory.intrinsic+json": {
              "type": "string"
            }
          },
          "metadata": {},
          "execution_count": 98
        }
      ]
    },
    {
      "cell_type": "code",
      "source": [
        "task_array = np.arange(2,11).reshape(3,3)"
      ],
      "metadata": {
        "id": "_1ZOwkqEWJYj"
      },
      "execution_count": 99,
      "outputs": []
    },
    {
      "cell_type": "code",
      "source": [
        "input_list = list(map(int,input().split()))\n",
        "\n",
        "np.array(input_list).astype(float)"
      ],
      "metadata": {
        "colab": {
          "base_uri": "https://localhost:8080/",
          "height": 0
        },
        "id": "lFSqjm_lW6ta",
        "outputId": "d775cb4b-7cca-46f2-d859-45af536b91b5"
      },
      "execution_count": 100,
      "outputs": [
        {
          "name": "stdout",
          "output_type": "stream",
          "text": [
            "1 2 3 4 5 6 7 8 9 10\n"
          ]
        },
        {
          "output_type": "execute_result",
          "data": {
            "text/plain": [
              "array([ 1.,  2.,  3.,  4.,  5.,  6.,  7.,  8.,  9., 10.])"
            ]
          },
          "metadata": {},
          "execution_count": 100
        }
      ]
    },
    {
      "cell_type": "code",
      "source": [
        "input_array = np.arange(10,20)\n",
        "array_to_append = np.append(input_array,[40,50,60,70,80,90])\n",
        "array_to_append"
      ],
      "metadata": {
        "colab": {
          "base_uri": "https://localhost:8080/",
          "height": 0
        },
        "id": "2S6UTr04XYPu",
        "outputId": "4aea65d5-35bb-4941-fa8e-e2642b089076"
      },
      "execution_count": 101,
      "outputs": [
        {
          "output_type": "execute_result",
          "data": {
            "text/plain": [
              "array([10, 11, 12, 13, 14, 15, 16, 17, 18, 19, 40, 50, 60, 70, 80, 90])"
            ]
          },
          "metadata": {},
          "execution_count": 101
        }
      ]
    },
    {
      "cell_type": "code",
      "source": [
        "arr_test1 = np.arange(10,14).reshape(2,2)\n",
        "arr_test2 = np.arange(1,5).reshape(2,2)\n",
        "sumArray = arr_test1 + arr_test2\n",
        "\n",
        "print(arr_test1)\n",
        "print(arr_test2)\n",
        "sumArray"
      ],
      "metadata": {
        "colab": {
          "base_uri": "https://localhost:8080/",
          "height": 0
        },
        "id": "KUKUM9TGYUln",
        "outputId": "fc560077-1c34-498e-8075-1d5b102d1800"
      },
      "execution_count": 102,
      "outputs": [
        {
          "output_type": "stream",
          "name": "stdout",
          "text": [
            "[[10 11]\n",
            " [12 13]]\n",
            "[[1 2]\n",
            " [3 4]]\n"
          ]
        },
        {
          "output_type": "execute_result",
          "data": {
            "text/plain": [
              "array([[11, 13],\n",
              "       [15, 17]])"
            ]
          },
          "metadata": {},
          "execution_count": 102
        }
      ]
    },
    {
      "cell_type": "code",
      "source": [
        "array1= np.arange(10,91,10).reshape(3,3)\n",
        "print(array1[0])\n",
        "print(array1[2,2])\n"
      ],
      "metadata": {
        "colab": {
          "base_uri": "https://localhost:8080/",
          "height": 0
        },
        "id": "Tf3ef5ixZJQn",
        "outputId": "49a8f0d7-42ec-4d07-d50a-17fcee4ce9b8"
      },
      "execution_count": 103,
      "outputs": [
        {
          "output_type": "stream",
          "name": "stdout",
          "text": [
            "[10 20 30]\n",
            "90\n"
          ]
        }
      ]
    },
    {
      "cell_type": "code",
      "source": [
        "\"\"\" Problem Statement:\n",
        "You work in XYZ Company as a Python developer. The company officials want\n",
        "you to build a Python program.\n",
        "Tasks To Be Performed:\n",
        "1. Create a function that takes dimensions as tuples e.g. (3, 3) and a numeric\n",
        "value and returns a NumPy array of the given dimension filled with the\n",
        "given value e.g.: solve((3, 3), 5) will return\n",
        "[\n",
        "[5, 5, 5],\n",
        "[5, 5, 5],\n",
        "[5, 5, 5]\n",
        "]\n",
        "2. Create a method that takes n NumPy arrays of the same dimensions,\n",
        "sums them and returns the answer.\n",
        "3. Given a 2 D Array of N X M Dimension, write a function that accepts this\n",
        "array as well as two numbers N and M. The method should return the\n",
        "top-left N X M sub matrix, e.g:\n",
        "[\n",
        "[1, 2, 3],\n",
        "[4, 5, 6],\n",
        "[7, 8, 9],\n",
        "]\n",
        "\n",
        "top_left_sub_matrix (matrix, 2, 2) -> should return:\n",
        "\n",
        "[\n",
        "[1, 2]\n",
        "[4, 5]\n",
        "]\n",
        "\n",
        "\n",
        "4. Given a 2 D Array of N X M Dimension, write a function that accepts this\n",
        "array as well as two numbers N and M. The method should return the\n",
        "bottom-right N X M sub matrix, e.g:\n",
        "[\n",
        "[1, 2, 3],\n",
        "[4, 5, 6],\n",
        "[7, 8, 9],\n",
        "]\n",
        "sub_matrix(matrix, 1, 1) -> should return : (Keep in mind these arrays are\n",
        "zero indexed)\n",
        "[\n",
        "[5, 6]\n",
        "[8, 9]\n",
        "]\n",
        "\n",
        "\n",
        "5. Given a 1 D NumPy Array. Write a function that accepts this array as\n",
        "parameters. The method should return a dictionary with 'mean' and\n",
        "'std_dev' as key and array's mean and array's standard deviation as\n",
        "values:\n",
        "[1, 1, 1]\n",
        "solution(arr) -> should return :\n",
        "{'mean': 1.0, 'std_dev': 0.0}\n",
        "\"\"\""
      ],
      "metadata": {
        "colab": {
          "base_uri": "https://localhost:8080/",
          "height": 140
        },
        "id": "LXf9yv1fJ6CD",
        "outputId": "32896baf-9236-41b2-80da-afc77283d3a4"
      },
      "execution_count": 104,
      "outputs": [
        {
          "output_type": "execute_result",
          "data": {
            "text/plain": [
              "\" Problem Statement:\\nYou work in XYZ Company as a Python developer. The company officials want\\nyou to build a Python program.\\nTasks To Be Performed:\\n1. Create a function that takes dimensions as tuples e.g. (3, 3) and a numeric\\nvalue and returns a NumPy array of the given dimension filled with the\\ngiven value e.g.: solve((3, 3), 5) will return\\n[\\n[5, 5, 5],\\n[5, 5, 5],\\n[5, 5, 5]\\n]\\n2. Create a method that takes n NumPy arrays of the same dimensions,\\nsums them and returns the answer.\\n3. Given a 2 D Array of N X M Dimension, write a function that accepts this\\narray as well as two numbers N and M. The method should return the\\ntop-left N X M sub matrix, e.g:\\n[\\n[1, 2, 3],\\n[4, 5, 6],\\n[7, 8, 9],\\n]\\n\\ntop_left_sub_matrix (matrix, 2, 2) -> should return:\\n\\n[\\n[1, 2]\\n[4, 5]\\n]\\n\\n\\n4. Given a 2 D Array of N X M Dimension, write a function that accepts this\\narray as well as two numbers N and M. The method should return the\\nbottom-right N X M sub matrix, e.g:\\n[\\n[1, 2, 3],\\n[4, 5, 6],\\n[7, 8, 9],\\n]\\nsub_matrix(matrix, 1, 1) -> should return : (Keep in mind these arrays are\\nzero indexed)\\n[\\n[5, 6]\\n[8, 9]\\n]\\n\\n\\n5. Given a 1 D NumPy Array. Write a function that accepts this array as\\nparameters. The method should return a dictionary with 'mean' and\\n'std_dev' as key and array's mean and array's standard deviation as\\nvalues:\\n[1, 1, 1]\\nsolution(arr) -> should return :\\n{'mean': 1.0, 'std_dev': 0.0}\\n\""
            ],
            "application/vnd.google.colaboratory.intrinsic+json": {
              "type": "string"
            }
          },
          "metadata": {},
          "execution_count": 104
        }
      ]
    },
    {
      "cell_type": "code",
      "source": [
        "def function_problem_one(input_tuple,value):\n",
        "  if len(input_tuple) == 2:\n",
        "    return np.full(input_tuple,value)\n",
        "  else:\n",
        "    print(\"wrong dmensions\")\n",
        "\n",
        "input_tuple = tuple(map(int,input().split()))\n",
        "value = int(input())\n",
        "print(function_problem_one(input_tuple,value))"
      ],
      "metadata": {
        "colab": {
          "base_uri": "https://localhost:8080/",
          "height": 0
        },
        "id": "u2MJBgaGKTYn",
        "outputId": "f9af5e1c-3785-4831-a124-cd62276ff82f"
      },
      "execution_count": 105,
      "outputs": [
        {
          "output_type": "stream",
          "name": "stdout",
          "text": [
            "3 3\n",
            "5\n",
            "[[5 5 5]\n",
            " [5 5 5]\n",
            " [5 5 5]]\n"
          ]
        }
      ]
    },
    {
      "cell_type": "markdown",
      "source": [
        "### **PANDAS**"
      ],
      "metadata": {
        "id": "M8PEBcRHOAB4"
      }
    },
    {
      "cell_type": "code",
      "source": [
        "from google.colab import files\n",
        "uploaded = files.upload()"
      ],
      "metadata": {
        "colab": {
          "base_uri": "https://localhost:8080/",
          "height": 38
        },
        "id": "eMhWgH5POF5w",
        "outputId": "7adbe8e7-3477-4408-ca0e-d8c77358be0e"
      },
      "execution_count": null,
      "outputs": [
        {
          "output_type": "display_data",
          "data": {
            "text/plain": [
              "<IPython.core.display.HTML object>"
            ],
            "text/html": [
              "\n",
              "     <input type=\"file\" id=\"files-d1600b91-2651-4c09-a03b-8e65e794e501\" name=\"files[]\" multiple disabled\n",
              "        style=\"border:none\" />\n",
              "     <output id=\"result-d1600b91-2651-4c09-a03b-8e65e794e501\">\n",
              "      Upload widget is only available when the cell has been executed in the\n",
              "      current browser session. Please rerun this cell to enable.\n",
              "      </output>\n",
              "      <script>// Copyright 2017 Google LLC\n",
              "//\n",
              "// Licensed under the Apache License, Version 2.0 (the \"License\");\n",
              "// you may not use this file except in compliance with the License.\n",
              "// You may obtain a copy of the License at\n",
              "//\n",
              "//      http://www.apache.org/licenses/LICENSE-2.0\n",
              "//\n",
              "// Unless required by applicable law or agreed to in writing, software\n",
              "// distributed under the License is distributed on an \"AS IS\" BASIS,\n",
              "// WITHOUT WARRANTIES OR CONDITIONS OF ANY KIND, either express or implied.\n",
              "// See the License for the specific language governing permissions and\n",
              "// limitations under the License.\n",
              "\n",
              "/**\n",
              " * @fileoverview Helpers for google.colab Python module.\n",
              " */\n",
              "(function(scope) {\n",
              "function span(text, styleAttributes = {}) {\n",
              "  const element = document.createElement('span');\n",
              "  element.textContent = text;\n",
              "  for (const key of Object.keys(styleAttributes)) {\n",
              "    element.style[key] = styleAttributes[key];\n",
              "  }\n",
              "  return element;\n",
              "}\n",
              "\n",
              "// Max number of bytes which will be uploaded at a time.\n",
              "const MAX_PAYLOAD_SIZE = 100 * 1024;\n",
              "\n",
              "function _uploadFiles(inputId, outputId) {\n",
              "  const steps = uploadFilesStep(inputId, outputId);\n",
              "  const outputElement = document.getElementById(outputId);\n",
              "  // Cache steps on the outputElement to make it available for the next call\n",
              "  // to uploadFilesContinue from Python.\n",
              "  outputElement.steps = steps;\n",
              "\n",
              "  return _uploadFilesContinue(outputId);\n",
              "}\n",
              "\n",
              "// This is roughly an async generator (not supported in the browser yet),\n",
              "// where there are multiple asynchronous steps and the Python side is going\n",
              "// to poll for completion of each step.\n",
              "// This uses a Promise to block the python side on completion of each step,\n",
              "// then passes the result of the previous step as the input to the next step.\n",
              "function _uploadFilesContinue(outputId) {\n",
              "  const outputElement = document.getElementById(outputId);\n",
              "  const steps = outputElement.steps;\n",
              "\n",
              "  const next = steps.next(outputElement.lastPromiseValue);\n",
              "  return Promise.resolve(next.value.promise).then((value) => {\n",
              "    // Cache the last promise value to make it available to the next\n",
              "    // step of the generator.\n",
              "    outputElement.lastPromiseValue = value;\n",
              "    return next.value.response;\n",
              "  });\n",
              "}\n",
              "\n",
              "/**\n",
              " * Generator function which is called between each async step of the upload\n",
              " * process.\n",
              " * @param {string} inputId Element ID of the input file picker element.\n",
              " * @param {string} outputId Element ID of the output display.\n",
              " * @return {!Iterable<!Object>} Iterable of next steps.\n",
              " */\n",
              "function* uploadFilesStep(inputId, outputId) {\n",
              "  const inputElement = document.getElementById(inputId);\n",
              "  inputElement.disabled = false;\n",
              "\n",
              "  const outputElement = document.getElementById(outputId);\n",
              "  outputElement.innerHTML = '';\n",
              "\n",
              "  const pickedPromise = new Promise((resolve) => {\n",
              "    inputElement.addEventListener('change', (e) => {\n",
              "      resolve(e.target.files);\n",
              "    });\n",
              "  });\n",
              "\n",
              "  const cancel = document.createElement('button');\n",
              "  inputElement.parentElement.appendChild(cancel);\n",
              "  cancel.textContent = 'Cancel upload';\n",
              "  const cancelPromise = new Promise((resolve) => {\n",
              "    cancel.onclick = () => {\n",
              "      resolve(null);\n",
              "    };\n",
              "  });\n",
              "\n",
              "  // Wait for the user to pick the files.\n",
              "  const files = yield {\n",
              "    promise: Promise.race([pickedPromise, cancelPromise]),\n",
              "    response: {\n",
              "      action: 'starting',\n",
              "    }\n",
              "  };\n",
              "\n",
              "  cancel.remove();\n",
              "\n",
              "  // Disable the input element since further picks are not allowed.\n",
              "  inputElement.disabled = true;\n",
              "\n",
              "  if (!files) {\n",
              "    return {\n",
              "      response: {\n",
              "        action: 'complete',\n",
              "      }\n",
              "    };\n",
              "  }\n",
              "\n",
              "  for (const file of files) {\n",
              "    const li = document.createElement('li');\n",
              "    li.append(span(file.name, {fontWeight: 'bold'}));\n",
              "    li.append(span(\n",
              "        `(${file.type || 'n/a'}) - ${file.size} bytes, ` +\n",
              "        `last modified: ${\n",
              "            file.lastModifiedDate ? file.lastModifiedDate.toLocaleDateString() :\n",
              "                                    'n/a'} - `));\n",
              "    const percent = span('0% done');\n",
              "    li.appendChild(percent);\n",
              "\n",
              "    outputElement.appendChild(li);\n",
              "\n",
              "    const fileDataPromise = new Promise((resolve) => {\n",
              "      const reader = new FileReader();\n",
              "      reader.onload = (e) => {\n",
              "        resolve(e.target.result);\n",
              "      };\n",
              "      reader.readAsArrayBuffer(file);\n",
              "    });\n",
              "    // Wait for the data to be ready.\n",
              "    let fileData = yield {\n",
              "      promise: fileDataPromise,\n",
              "      response: {\n",
              "        action: 'continue',\n",
              "      }\n",
              "    };\n",
              "\n",
              "    // Use a chunked sending to avoid message size limits. See b/62115660.\n",
              "    let position = 0;\n",
              "    do {\n",
              "      const length = Math.min(fileData.byteLength - position, MAX_PAYLOAD_SIZE);\n",
              "      const chunk = new Uint8Array(fileData, position, length);\n",
              "      position += length;\n",
              "\n",
              "      const base64 = btoa(String.fromCharCode.apply(null, chunk));\n",
              "      yield {\n",
              "        response: {\n",
              "          action: 'append',\n",
              "          file: file.name,\n",
              "          data: base64,\n",
              "        },\n",
              "      };\n",
              "\n",
              "      let percentDone = fileData.byteLength === 0 ?\n",
              "          100 :\n",
              "          Math.round((position / fileData.byteLength) * 100);\n",
              "      percent.textContent = `${percentDone}% done`;\n",
              "\n",
              "    } while (position < fileData.byteLength);\n",
              "  }\n",
              "\n",
              "  // All done.\n",
              "  yield {\n",
              "    response: {\n",
              "      action: 'complete',\n",
              "    }\n",
              "  };\n",
              "}\n",
              "\n",
              "scope.google = scope.google || {};\n",
              "scope.google.colab = scope.google.colab || {};\n",
              "scope.google.colab._files = {\n",
              "  _uploadFiles,\n",
              "  _uploadFilesContinue,\n",
              "};\n",
              "})(self);\n",
              "</script> "
            ]
          },
          "metadata": {}
        }
      ]
    },
    {
      "cell_type": "code",
      "source": [
        "import pandas as pd"
      ],
      "metadata": {
        "id": "kZKHd-FGC5VU"
      },
      "execution_count": null,
      "outputs": []
    },
    {
      "cell_type": "code",
      "source": [
        "series_num = pd.Series([1,2,3,4,5])\n",
        "series_num"
      ],
      "metadata": {
        "id": "dU2XMxD3CzBw"
      },
      "execution_count": null,
      "outputs": []
    },
    {
      "cell_type": "code",
      "source": [
        "series_text = pd.Series([\"hello\",\"hi\",\"how\"])\n",
        "series_text\n"
      ],
      "metadata": {
        "id": "Fv_CKjXNDBdF"
      },
      "execution_count": null,
      "outputs": []
    },
    {
      "cell_type": "code",
      "source": [
        "# slicing\n",
        "\n",
        "series_num[0]\n",
        "series_num[0:3]\n",
        ""
      ],
      "metadata": {
        "id": "UFpdSY_yDbfW"
      },
      "execution_count": null,
      "outputs": []
    },
    {
      "cell_type": "code",
      "source": [
        "series_text[0:2]"
      ],
      "metadata": {
        "id": "iuPk2XaLDpZS"
      },
      "execution_count": null,
      "outputs": []
    },
    {
      "cell_type": "markdown",
      "source": [
        "### **data frame**"
      ],
      "metadata": {
        "id": "wXtBqkeEEPNq"
      }
    },
    {
      "cell_type": "code",
      "source": [
        "dataset_frames = pd.DataFrame({\n",
        "    \"stud_id\": [1,2,3,4,5],\n",
        "    \"stud_num\":[5,6,7,8,9],\n",
        "    \"student_n\" :[5,6,7,8,9]\n",
        "})"
      ],
      "metadata": {
        "id": "rFiYhFQzETO4"
      },
      "execution_count": null,
      "outputs": []
    },
    {
      "cell_type": "code",
      "source": [
        "dataset_frames"
      ],
      "metadata": {
        "id": "D2OLXhv0G0-5"
      },
      "execution_count": null,
      "outputs": []
    },
    {
      "cell_type": "code",
      "source": [
        "market_data_frame = pd.read_csv(\"/content/market_fact.csv\")\n",
        "market_data_frame"
      ],
      "metadata": {
        "id": "_cIiQwrZG6CG"
      },
      "execution_count": null,
      "outputs": []
    },
    {
      "cell_type": "code",
      "source": [
        "market_data_frame.head()    # first 4 rows of table"
      ],
      "metadata": {
        "id": "nmPkSTH7JEi1"
      },
      "execution_count": null,
      "outputs": []
    },
    {
      "cell_type": "code",
      "source": [
        "market_data_frame.tail()  # first 4 rows of table"
      ],
      "metadata": {
        "id": "q3N-AH6nJepo"
      },
      "execution_count": null,
      "outputs": []
    },
    {
      "cell_type": "code",
      "source": [
        "market_data_frame.info()             # getting info about the table"
      ],
      "metadata": {
        "id": "nki5IYsYJ9LF"
      },
      "execution_count": null,
      "outputs": []
    },
    {
      "cell_type": "code",
      "source": [
        "market_data_frame.isnull().sum()                     #which column have null values"
      ],
      "metadata": {
        "id": "zCjiw2gLK6-Q"
      },
      "execution_count": null,
      "outputs": []
    },
    {
      "cell_type": "code",
      "source": [
        "market_data_frame.columns"
      ],
      "metadata": {
        "id": "RwmP63GBL-L5"
      },
      "execution_count": null,
      "outputs": []
    },
    {
      "cell_type": "code",
      "source": [
        "market_data_frame.shape"
      ],
      "metadata": {
        "id": "fbTE7wJlMQR3"
      },
      "execution_count": null,
      "outputs": []
    }
  ]
}